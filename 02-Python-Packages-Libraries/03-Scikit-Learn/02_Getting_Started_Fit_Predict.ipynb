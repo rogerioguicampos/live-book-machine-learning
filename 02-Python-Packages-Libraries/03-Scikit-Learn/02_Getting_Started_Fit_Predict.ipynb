{
 "cells": [
  {
   "cell_type": "markdown",
   "metadata": {
    "toc": true
   },
   "source": [
    "<h1>Table of Contents<span class=\"tocSkip\"></span></h1>\n",
    "<div class=\"toc\"><ul class=\"toc-item\"><li><span><a href=\"#O-que-veremos?\" data-toc-modified-id=\"O-que-veremos?-1\"><span class=\"toc-item-num\">1&nbsp;&nbsp;</span>O que veremos?</a></span></li><li><span><a href=\"#Requisitos-Básicos\" data-toc-modified-id=\"Requisitos-Básicos-2\"><span class=\"toc-item-num\">2&nbsp;&nbsp;</span>Requisitos Básicos</a></span><ul class=\"toc-item\"><li><span><a href=\"#Teoria\" data-toc-modified-id=\"Teoria-2.1\"><span class=\"toc-item-num\">2.1&nbsp;&nbsp;</span>Teoria</a></span></li><li><span><a href=\"#Técnicos\" data-toc-modified-id=\"Técnicos-2.2\"><span class=\"toc-item-num\">2.2&nbsp;&nbsp;</span>Técnicos</a></span></li></ul></li><li><span><a href=\"#Fitting-and-Predicting\" data-toc-modified-id=\"Fitting-and-Predicting-3\"><span class=\"toc-item-num\">3&nbsp;&nbsp;</span>Fitting and Predicting</a></span><ul class=\"toc-item\"><li><span><a href=\"#Dissecando-o-basic_fit_pred.py\" data-toc-modified-id=\"Dissecando-o-basic_fit_pred.py-3.1\"><span class=\"toc-item-num\">3.1&nbsp;&nbsp;</span>Dissecando o basic_fit_pred.py</a></span><ul class=\"toc-item\"><li><span><a href=\"#LINHAS-9,-12-E-14\" data-toc-modified-id=\"LINHAS-9,-12-E-14-3.1.1\"><span class=\"toc-item-num\">3.1.1&nbsp;&nbsp;</span>LINHAS 9, 12 E 14</a></span></li><li><span><a href=\"#LINHA-10\" data-toc-modified-id=\"LINHA-10-3.1.2\"><span class=\"toc-item-num\">3.1.2&nbsp;&nbsp;</span>LINHA 10</a></span></li><li><span><a href=\"#LINHAS-21-E-22\" data-toc-modified-id=\"LINHAS-21-E-22-3.1.3\"><span class=\"toc-item-num\">3.1.3&nbsp;&nbsp;</span>LINHAS 21 E 22</a></span></li><li><span><a href=\"#LINHAS-25,-28-e-31\" data-toc-modified-id=\"LINHAS-25,-28-e-31-3.1.4\"><span class=\"toc-item-num\">3.1.4&nbsp;&nbsp;</span>LINHAS 25, 28 e 31</a></span></li></ul></li></ul></li><li><span><a href=\"#Formato-da-Design-Matrix-X-e-do-Target-Values-y\" data-toc-modified-id=\"Formato-da-Design-Matrix-X-e-do-Target-Values-y-4\"><span class=\"toc-item-num\">4&nbsp;&nbsp;</span>Formato da Design Matrix X e do Target Values y</a></span></li></ul></div>"
   ]
  },
  {
   "cell_type": "markdown",
   "metadata": {},
   "source": [
    "# O que veremos?\n",
    "*VÍDEO QUE ACOMPANHA ESSA PARTE ESTÁ NO LINK:*\n",
    "\n",
    "Neste notebook nós teremos o primeiro contato com o pacote *scikit-learn*. Vamos: \n",
    "- Treinar e fazer previsões rapidamente com um estimator\n",
    "- Entender a Design Matrix X e o Target Values y e seus formatos específicos "
   ]
  },
  {
   "cell_type": "markdown",
   "metadata": {},
   "source": [
    "# Requisitos Básicos"
   ]
  },
  {
   "cell_type": "markdown",
   "metadata": {},
   "source": [
    "## Teoria\n",
    "*VÍDEO QUE ACOMPANHA ESSA PARTE ESTÁ NO LINK:*\n",
    "\n",
    "Esses requisitos dizem respeito ao funcionamento básico e alguns métodos de Machine Learning.<br>\n",
    "Todos os requisitos abaixo estão em **01-Basic-Theory/03-Basic-ML-Theory**\n",
    "- Intuição básica de como um modelo \"aprende\" e faz previsões\n",
    "    - Diferença de Supervised Machine Learning para Unsupervised Machine Learning\n",
    "    - Diferença entre uma tarefa de classificação e uma de regressão\n",
    "    - Fit\n",
    "    - Componentes básicos de um algoritmo de machine learning\n",
    "\n",
    "## Técnicos\n",
    "*VÍDEO QUE ACOMPANHA ESSA PARTE ESTÁ NO LINK:*\n",
    "\n",
    "- Python | Requisitos em **02-Python-Packages-Libraries/0-Python**\n",
    "    - Orientação a Objetos\n",
    "    - Listas e dicionários\n",
    "    - Funções e como elas funcionam\n",
    "    - Imports\n",
    "- NumPy | Requisitos em **02-Python-Packages-Libraries/01-NumPy**\n",
    "    - Arrays\n",
    "    - Manipulação básica de arrays\n",
    "- Pandas | Requisitos em **02-Python-Packages-Libraries/02-Pandas**\n",
    "    - Dataframes e Series\n",
    "    - Manipulação básica dos dois acima\n",
    "    - Leitura de dados"
   ]
  },
  {
   "cell_type": "markdown",
   "metadata": {},
   "source": [
    "# Fitting and Predicting\n",
    "\n",
    "*VÍDEO QUE ACOMPANHA ESSA PARTE ESTÁ NO LINK:*\n",
    "\n",
    "Veremos como é fácil treinar e fazer previsões com algoritmos extremamente complexos. Usaremos o dataset *Pima Indian Diabetes* para fazer o nosso exemplo.<br>\n",
    "Link para a página do Kaggle com informações adicionais sobre o dataset: [Pima Indians Diabetes Database - Kaggle](https://www.kaggle.com/uciml/pima-indians-diabetes-database)"
   ]
  },
  {
   "cell_type": "code",
   "execution_count": 28,
   "metadata": {},
   "outputs": [
    {
     "name": "stdout",
     "output_type": "stream",
     "text": [
      "Dataset completo que iremos usar\n",
      "     Pregnancies  Glucose  BloodPressure  SkinThickness  Insulin   BMI  \\\n",
      "0              6      148             72             35        0  33.6   \n",
      "1              1       85             66             29        0  26.6   \n",
      "2              8      183             64              0        0  23.3   \n",
      "3              1       89             66             23       94  28.1   \n",
      "4              0      137             40             35      168  43.1   \n",
      "..           ...      ...            ...            ...      ...   ...   \n",
      "763           10      101             76             48      180  32.9   \n",
      "764            2      122             70             27        0  36.8   \n",
      "765            5      121             72             23      112  26.2   \n",
      "766            1      126             60              0        0  30.1   \n",
      "767            1       93             70             31        0  30.4   \n",
      "\n",
      "     DiabetesPedigreeFunction  Age  Outcome  \n",
      "0                       0.627   50        1  \n",
      "1                       0.351   31        0  \n",
      "2                       0.672   32        1  \n",
      "3                       0.167   21        0  \n",
      "4                       2.288   33        1  \n",
      "..                        ...  ...      ...  \n",
      "763                     0.171   63        0  \n",
      "764                     0.340   27        0  \n",
      "765                     0.245   30        0  \n",
      "766                     0.349   47        1  \n",
      "767                     0.315   23        0  \n",
      "\n",
      "[768 rows x 9 columns]\n",
      "\n",
      "Previsoes que o estimator DecisionTreeClassifier produziu\n",
      "[0 1 0 1 0 0 0 0 1 0]\n"
     ]
    }
   ],
   "source": [
    "\"\"\"\n",
    "------basic_fit_pred.py------\n",
    "\n",
    "Script basico para leitura, treino e previsao\n",
    "para uma tarefa de classificao de um problema \n",
    "supervisionado\n",
    "\n",
    "\"\"\"\n",
    "import pandas as pd\n",
    "from sklearn.tree import DecisionTreeClassifier\n",
    "\n",
    "PATH_FILE = 'data/diabetes.csv'\n",
    "\n",
    "df_diabetes = pd.read_csv(PATH_FILE)\n",
    "\n",
    "print('Dataset completo que iremos usar')\n",
    "print(df_diabetes)\n",
    "print()\n",
    "\n",
    "# separa entre features e targets\n",
    "X = df_diabetes.drop(columns='Outcome')\n",
    "y = df_diabetes.loc[:, 'Outcome']\n",
    "\n",
    "# instanciando o estimator\n",
    "dec_tree = DecisionTreeClassifier()\n",
    "\n",
    "# treino e previsao\n",
    "dec_tree.fit(X, y)\n",
    "\n",
    "# fazendo previsao nas ultimas 10 linhas de X\n",
    "y_pred = dec_tree.predict(X.iloc[-10:, :])\n",
    "\n",
    "print('Previsoes que o estimator DecisionTreeClassifier produziu')\n",
    "print(y_pred)"
   ]
  },
  {
   "cell_type": "markdown",
   "metadata": {},
   "source": [
    "## Dissecando o basic_fit_pred.py\n",
    "\n",
    "*VÍDEO QUE ACOMPANHA ESSA PARTE ESTÁ NO LINK:*\n",
    "\n",
    "Primeiro de tudo, sim, nós não separamos em dados de treino e teste, nunca faça isso em casa e principalmente NUNCA FAÇA ISSO NO TRABALHO. Fizemos assim só para mostrar como é fácil treinar e fazer previsões com um estimador chamado DecisionTreeClassifier."
   ]
  },
  {
   "cell_type": "markdown",
   "metadata": {},
   "source": [
    "###  LINHAS 9, 12 E 14\n",
    "Essas linhas de código importam a biblioteca pandas, criam uma constante com o endereço do arquivo que vamos ler e fazem a leitura desse arquivo com a função read_csv() do pandas, respectivamente. Para mais detalhes sobre, veja a parte de pandas que temos."
   ]
  },
  {
   "cell_type": "markdown",
   "metadata": {},
   "source": [
    "### LINHA 10\n",
    "Faz o import do estimator DecisionTreeClassifier. Para saber como importar outros estimadores ou outras funções do scikit-learn, faça isso:\n",
    "- Suponha que queremos importar uma função que nos retorne a acurácia de um modelo de classificação. O scikit-learn já oferece o accuracy_score() para a gente.\n",
    "- Entre na documentação em: https://scikit-learn.org/stable/index.html\n",
    "- Na parte superior clique em API\n",
    "- Quando estiver na parte mostrada na primeira imagem abaixo, aperte CTRL+F e procure por accuracy_score\n",
    "- Entre na página do accuracy_score, indicada na segunda imagem"
   ]
  },
  {
   "cell_type": "markdown",
   "metadata": {},
   "source": [
    "![API-REFERENCE](images/02_01_API_Reference.PNG)"
   ]
  },
  {
   "cell_type": "markdown",
   "metadata": {},
   "source": [
    "![ACC-SCORE-LINK](images/02_02_accuracy_score.PNG)"
   ]
  },
  {
   "cell_type": "markdown",
   "metadata": {},
   "source": [
    "- A parte superior da página abaixo indica como você deve fazer o import. Aqui no nosso caso, deveríamos fazer assim:\n",
    "```python\n",
    "from sklearn.metrics import accuracy_score\n",
    "```"
   ]
  },
  {
   "cell_type": "markdown",
   "metadata": {},
   "source": [
    "![IMPORT-ACC-SCORe](images/02_03_import_accuracy_score.PNG)"
   ]
  },
  {
   "cell_type": "markdown",
   "metadata": {},
   "source": [
    "Pronto, você está liberado para usar a a função accuracy_score"
   ]
  },
  {
   "cell_type": "markdown",
   "metadata": {},
   "source": [
    "### LINHAS 21 E 22\n",
    "Fazemos a separação entre a Design Matrix X e o Target Values y, explicaremos abaixo o que significa cada uma delas. Para fazermos essa separação, usamos a biblioteca pandas."
   ]
  },
  {
   "cell_type": "markdown",
   "metadata": {},
   "source": [
    "### LINHAS 25, 28 e 31\n",
    "- 25: instanciamos o estimador\n",
    "- 28: usamos o método .fit() do estimador, passamos para ele a Design Matrix X e o Target Values y, nessa ordem. Ele serve para treinarmos o estimador e achar o melhor conjunto de pesos\n",
    "- 31: com o estimador já treinado, a gente usa o método .predict() para fazer previsões. Precisamos passar somente uma Design Matrix X para ele. Aqui, nós usamos as últimas 10 linhas da Design Matrix X."
   ]
  },
  {
   "cell_type": "markdown",
   "metadata": {},
   "source": [
    "# Formato da Design Matrix X e do Target Values y\n",
    "\n",
    "*VÍDEO QUE ACOMPANHA ESSA PARTE ESTÁ NO LINK:*\n",
    "\n",
    "O scikit-learn consome os dados para treinamento num formato específico. Suponha que temos o dataset abaixo. Aqui, temos um problema de machine learning supervisionado e uma tarefa de classificação. Precisamos separar as colunas de features das colunas de target."
   ]
  },
  {
   "cell_type": "markdown",
   "metadata": {},
   "source": [
    "![DATASET](images/02_04_dataset.PNG)"
   ]
  },
  {
   "cell_type": "markdown",
   "metadata": {},
   "source": [
    "Veja a separação abaixo. No scikit-learn, cada uma dessas duas tabelas, derivadas do dataset original, recebem um nome específico.\n",
    "\n",
    "- Design Matrix X: é a tabela que contém as features. Ela deve ser do formato (n_samples, n_features), ou seja, ela deve ser 2D, onde\n",
    "    - n_samples: quantidade de linhas\n",
    "    - n_features: quantidade de features\n",
    "- Target Values y: é a tabela com os valores que queremos prever. Ela geralmente tem o formato (n_samples, ), ou seja, 1D, onde\n",
    "    - n_samples: quantidade de linhas do dataset original\n",
    "    \n",
    "Aqui no nosso exemplo, temos:\n",
    "- 4 samples\n",
    "- 3 features\n",
    "- 1 target values\n",
    "\n",
    "Logo:\n",
    "- Design Matrix X: (n_samples, n_features) == (4, 3)\n",
    "- Target Values y: (n_samples, ) == (4, )"
   ]
  },
  {
   "cell_type": "markdown",
   "metadata": {},
   "source": [
    "![DESIGN-MATRIX](images/02_05_design_matrix.PNG)"
   ]
  },
  {
   "cell_type": "markdown",
   "metadata": {},
   "source": [
    "![TARGET-VALUES](images/02_06_target_values.PNG)"
   ]
  },
  {
   "cell_type": "markdown",
   "metadata": {},
   "source": [
    "Para problemas de machine learning não supervisionado, nós não precisamos do Target Values y"
   ]
  }
 ],
 "metadata": {
  "kernelspec": {
   "display_name": "Python 3",
   "language": "python",
   "name": "python3"
  },
  "language_info": {
   "codemirror_mode": {
    "name": "ipython",
    "version": 3
   },
   "file_extension": ".py",
   "mimetype": "text/x-python",
   "name": "python",
   "nbconvert_exporter": "python",
   "pygments_lexer": "ipython3",
   "version": "3.7.7"
  },
  "toc": {
   "base_numbering": 1,
   "nav_menu": {},
   "number_sections": true,
   "sideBar": true,
   "skip_h1_title": false,
   "title_cell": "Table of Contents",
   "title_sidebar": "Contents",
   "toc_cell": true,
   "toc_position": {},
   "toc_section_display": true,
   "toc_window_display": false
  },
  "varInspector": {
   "cols": {
    "lenName": 16,
    "lenType": 16,
    "lenVar": 40
   },
   "kernels_config": {
    "python": {
     "delete_cmd_postfix": "",
     "delete_cmd_prefix": "del ",
     "library": "var_list.py",
     "varRefreshCmd": "print(var_dic_list())"
    },
    "r": {
     "delete_cmd_postfix": ") ",
     "delete_cmd_prefix": "rm(",
     "library": "var_list.r",
     "varRefreshCmd": "cat(var_dic_list()) "
    }
   },
   "types_to_exclude": [
    "module",
    "function",
    "builtin_function_or_method",
    "instance",
    "_Feature"
   ],
   "window_display": false
  }
 },
 "nbformat": 4,
 "nbformat_minor": 4
}
