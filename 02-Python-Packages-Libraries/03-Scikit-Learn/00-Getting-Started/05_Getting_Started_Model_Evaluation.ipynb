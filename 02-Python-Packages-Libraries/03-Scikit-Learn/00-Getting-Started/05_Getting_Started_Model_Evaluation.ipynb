{
 "cells": [
  {
   "cell_type": "markdown",
   "metadata": {
    "toc": true
   },
   "source": [
    "<h1>Table of Contents<span class=\"tocSkip\"></span></h1>\n",
    "<div class=\"toc\"><ul class=\"toc-item\"><li><span><a href=\"#O-que-veremos?\" data-toc-modified-id=\"O-que-veremos?-1\"><span class=\"toc-item-num\">1&nbsp;&nbsp;</span>O que veremos?</a></span></li><li><span><a href=\"#Requisitos-Básicos\" data-toc-modified-id=\"Requisitos-Básicos-2\"><span class=\"toc-item-num\">2&nbsp;&nbsp;</span>Requisitos Básicos</a></span><ul class=\"toc-item\"><li><span><a href=\"#Teoria\" data-toc-modified-id=\"Teoria-2.1\"><span class=\"toc-item-num\">2.1&nbsp;&nbsp;</span>Teoria</a></span></li><li><span><a href=\"#Técnico\" data-toc-modified-id=\"Técnico-2.2\"><span class=\"toc-item-num\">2.2&nbsp;&nbsp;</span>Técnico</a></span></li></ul></li><li><span><a href=\"#Avaliando-modelos\" data-toc-modified-id=\"Avaliando-modelos-3\"><span class=\"toc-item-num\">3&nbsp;&nbsp;</span>Avaliando modelos</a></span><ul class=\"toc-item\"><li><span><a href=\"#Avaliando-Regressão-com-Holdout\" data-toc-modified-id=\"Avaliando-Regressão-com-Holdout-3.1\"><span class=\"toc-item-num\">3.1&nbsp;&nbsp;</span>Avaliando Regressão com Holdout</a></span></li><li><span><a href=\"#Avaliando-Classificação-com-Holdout\" data-toc-modified-id=\"Avaliando-Classificação-com-Holdout-3.2\"><span class=\"toc-item-num\">3.2&nbsp;&nbsp;</span>Avaliando Classificação com Holdout</a></span></li><li><span><a href=\"#Avaliando-Regressão-e-Classificação-com-Cross-Validation\" data-toc-modified-id=\"Avaliando-Regressão-e-Classificação-com-Cross-Validation-3.3\"><span class=\"toc-item-num\">3.3&nbsp;&nbsp;</span>Avaliando Regressão e Classificação com Cross-Validation</a></span></li></ul></li></ul></div>"
   ]
  },
  {
   "cell_type": "markdown",
   "metadata": {},
   "source": [
    "# O que veremos? \n",
    "\n",
    "O objetivo maior de um modelo de Machine Learning é ele se sair bem - o bem aqui é mensurado por alguma medida - em dados que ele nunca viu.<br>\n",
    "\n",
    "O problema é que nós só temos dados históricos, ou seja, dados de coisas que já aconteceram. Como podemos saber como o nosso modelo se sairá na vida real e em dados que ele nunca viu?<br>\n",
    "\n",
    "É justamente isso que veremos aqui nesse notebook, obviamente de maneira superficial num primeiro momento, mas tenham calma."
   ]
  },
  {
   "cell_type": "markdown",
   "metadata": {},
   "source": [
    "# Requisitos Básicos "
   ]
  },
  {
   "cell_type": "markdown",
   "metadata": {},
   "source": [
    "## Teoria\n",
    "- Machine Learning Theory | Requisitos em **01-Basic-Theory/03-Basic-ML-Theory**\n",
    "    - Avaliação de modelos com holdout\n",
    "    - Avaliação e seleção de modelos com Cross-Validation\n",
    "    - Métricas para avaliar modelos\n",
    "        - Mean Squared Error\n",
    "        - Root Mean Squared Error\n",
    "        - Accuracy\n",
    "        - $R^2$"
   ]
  },
  {
   "cell_type": "markdown",
   "metadata": {},
   "source": [
    "## Técnico \n",
    "\n",
    "- Python | Requisitos em **02-Python-Packages-Libraries/0-Python**\n",
    "    - Imports de bibliotecas\n",
    "- NumPy | Requisitos em **02-Python-Packages-Libraries/01-NumPy**\n",
    "    - Arrays\n",
    "    - Manipulação básica de arrays\n",
    "- Pandas | Requisitos em **02-Python-Packages-Libraries/02-Pandas**\n",
    "    - Leitura de dados\n",
    "    - Dataframes e Series\n",
    "    - Manipulação básica dos dois acima\n",
    "- Scikit-Learn | Requisitos em **02-Python-Packages-Libraries/03-Scikit-Learn/00-Getting-Started**\n",
    "    - Fit e predict com estimadores"
   ]
  },
  {
   "cell_type": "markdown",
   "metadata": {},
   "source": [
    "# Avaliando modelos\n",
    "\n",
    "Vamos avaliar dois modelos de Machine Learning Supervisionado, um em uma tarefa de classificação e outro em uma de regressão.<br>\n",
    "\n",
    "Na tarefa de classificação, vamos usar o dataset [Pima Indians Diabetes Database](https://www.kaggle.com/uciml/pima-indians-diabetes-database) do [Kaggle](https://www.kaggle.com/) e na tarefa de regressão iremos usar [Boston Housing](https://www.kaggle.com/schirmerchad/bostonhoustingmlnd).<br>\n",
    "\n",
    "Para maiores detalhes sobre cada problema, só entrar na página do [Kaggle](https://www.kaggle.com/) e ler a descrição de cada um."
   ]
  },
  {
   "cell_type": "markdown",
   "metadata": {},
   "source": [
    "## Avaliando Regressão com Holdout\n",
    "\n",
    "Temos dois scripts, onde:\n",
    "- eval_same_data.py faz o seguinte:\n",
    "    - leitura dos dados com pd.read_csv()\n",
    "    - treina uma DecisionTreeRegressor em todos os dados que temos\n",
    "    - faz previsões nos mesmos dados que o algoritmo treinou\n",
    "    - avalia com a métrica Root Mean Squared Error as previsões que são feitas nos mesmos dados que treinamos\n",
    "- eval_diff_data.py faz o seguinte:\n",
    "    - leitura dos dados com pd.read_csv()\n",
    "    - separa aleatoriamente 30% dos dados\n",
    "    - treina uma DecisionTreeRegressor em 70% que foram separados aleatoriamente\n",
    "    - faz previsões nos 30% de dados que foram separados e que o modelo nunca viu\n",
    "    - avalia com a métrica Root Mean Squared Error as previsões que foram feitas nos dados que ele nunca viu"
   ]
  },
  {
   "cell_type": "code",
   "execution_count": 19,
   "metadata": {},
   "outputs": [
    {
     "name": "stdout",
     "output_type": "stream",
     "text": [
      "RMSE nos mesmos dados que treinamos: 0.00\n"
     ]
    }
   ],
   "source": [
    "\"\"\"\n",
    "------eval_same_data.py------\n",
    "\n",
    "Script que treina e avalia uma DecisionTreeRegresssor\n",
    "nos mesmos dados. Veja que o erro eh zero\n",
    "\"\"\"\n",
    "import pandas as pd\n",
    "from sklearn.tree import DecisionTreeRegressor\n",
    "from sklearn.metrics import mean_squared_error\n",
    "\n",
    "\n",
    "PATH_FILE = 'data/housing.csv'\n",
    "TEST_SIZE = 0.3\n",
    "RANDOM_STATE = 42\n",
    "\n",
    "df_housing = pd.read_csv(PATH_FILE)\n",
    "\n",
    "X = df_housing.drop(columns='MEDV')\n",
    "y = df_housing.loc[:, 'MEDV']\n",
    "\n",
    "dec_tree = DecisionTreeRegressor(random_state=RANDOM_STATE)\n",
    "dec_tree.fit(X, y)\n",
    "\n",
    "# fazendo previsoes nos mesmos dados que vimos\n",
    "y_pred = dec_tree.predict(X)\n",
    "\n",
    "# avaliando com a metrica RMSE \n",
    "rmse = mean_squared_error(y, y_pred, squared=False)\n",
    "\n",
    "print(f'RMSE nos mesmos dados que treinamos: {rmse:.2f}')"
   ]
  },
  {
   "cell_type": "code",
   "execution_count": 2,
   "metadata": {},
   "outputs": [
    {
     "name": "stdout",
     "output_type": "stream",
     "text": [
      "RMSE em dados nunca vistos: 79448.66\n"
     ]
    }
   ],
   "source": [
    "\"\"\"\n",
    "------eval_diff_data.py------\n",
    "\n",
    "Script que treina uma DecisionTreeRegressor em 70% dos\n",
    "dados e avalia nos 30% restantes. Veja como o erro\n",
    "ja eh diferente de zero.\n",
    "\"\"\"\n",
    "import pandas as pd\n",
    "from sklearn.model_selection import train_test_split\n",
    "from sklearn.tree import DecisionTreeRegressor\n",
    "from sklearn.metrics import mean_squared_error\n",
    "\n",
    "\n",
    "PATH_FILE = 'data/housing.csv'\n",
    "TEST_SIZE = 0.3\n",
    "RANDOM_STATE = 42\n",
    "\n",
    "df_housing = pd.read_csv(PATH_FILE)\n",
    "\n",
    "X = df_housing.drop(columns='MEDV')\n",
    "y = df_housing.loc[:, 'MEDV']\n",
    "\n",
    "# divindo X e y em uma proporcao de 70% para treino e 30% para testar\n",
    "X_train, X_test, y_train, y_test = train_test_split(X, y, test_size=TEST_SIZE, random_state=RANDOM_STATE)\n",
    "\n",
    "dec_tree = DecisionTreeRegressor(random_state=RANDOM_STATE)\n",
    "\n",
    "# aqui estamos treinado em apenas 70% dos dados\n",
    "dec_tree.fit(X_train, y_train)\n",
    "\n",
    "# fazendo previsoes nos outros 30% que o modelo nunca viu\n",
    "y_pred = dec_tree.predict(X_test)\n",
    "\n",
    "# avaliando com a metrica RMSE as previsoes feitas em dados que nunca vimos\n",
    "rmse = mean_squared_error(y_test, y_pred, squared=False)\n",
    "print(f'RMSE em dados nunca vistos: {rmse:.2f}')"
   ]
  },
  {
   "cell_type": "markdown",
   "metadata": {},
   "source": [
    "## Avaliando Classificação com Holdout \n",
    "\n",
    "Temos dois scripts, onde:\n",
    "- eval_same_data.py faz o seguinte:\n",
    "    - leitura dos dados com pd.read_csv()\n",
    "    - treina uma DecisionTreeClassifier em todos os dados que temos\n",
    "    - faz previsões nos mesmos dados que o algoritmo treinou\n",
    "    - avalia com a métrica Accuracy as previsões que são feitas nos mesmos dados que treinamos\n",
    "- eval_diff_data.py faz o seguinte:\n",
    "    - leitura dos dados com pd.read_csv()\n",
    "    - separa aleatoriamente 30% dos dados\n",
    "    - treina uma DecisionTreeClassifier em 70% que foram separados aleatoriamente\n",
    "    - faz previsões nos 30% de dados que foram separados e que o modelo nunca viu\n",
    "    - avalia com a métrica Accuracy as previsões que foram feitas nos dados que ele nunca viu"
   ]
  },
  {
   "cell_type": "code",
   "execution_count": 20,
   "metadata": {},
   "outputs": [
    {
     "name": "stdout",
     "output_type": "stream",
     "text": [
      "Acc nos mesmos dados que treinamos: 100.00%\n"
     ]
    }
   ],
   "source": [
    "\"\"\"\n",
    "------eval_same_data.py------\n",
    "\n",
    "Script que treina e avalia uma DecisionTreeClassifier\n",
    "nos mesmos dados. Veja que a acuracia eh 100%\n",
    "\"\"\"\n",
    "import pandas as pd\n",
    "from sklearn.tree import DecisionTreeClassifier\n",
    "from sklearn.metrics import accuracy_score\n",
    "\n",
    "\n",
    "PATH_FILE = 'data/diabetes.csv'\n",
    "TEST_SIZE = 0.3\n",
    "RANDOM_STATE = 42\n",
    "\n",
    "df_housing = pd.read_csv(PATH_FILE)\n",
    "\n",
    "X = df_housing.drop(columns='Outcome')\n",
    "y = df_housing.loc[:, 'Outcome']\n",
    "\n",
    "dec_tree = DecisionTreeClassifier(random_state=RANDOM_STATE)\n",
    "dec_tree.fit(X, y)\n",
    "\n",
    "# fazendo previsoes nos mesmos dados que vimos\n",
    "y_pred = dec_tree.predict(X)\n",
    "\n",
    "# avaliando com a metrica Accuracy as previsoes que foram feitas\n",
    "# nos mesmos dados que treinamos\n",
    "acc = accuracy_score(y, y_pred)*100\n",
    "\n",
    "print(f'Acc nos mesmos dados que treinamos: {acc:.2f}%')"
   ]
  },
  {
   "cell_type": "code",
   "execution_count": 21,
   "metadata": {},
   "outputs": [
    {
     "name": "stdout",
     "output_type": "stream",
     "text": [
      "Acc em dados nunca vistos: 70.13%\n"
     ]
    }
   ],
   "source": [
    "\"\"\"\n",
    "------eval_diff_data.py------\n",
    "\n",
    "Script que treina uma DecisionTreeClassifier em 70% dos\n",
    "dados e avalia nos 30% restantes. Veja como a acuracia \n",
    "eh diferente de 100%\n",
    "\"\"\"\n",
    "import pandas as pd\n",
    "from sklearn.model_selection import train_test_split\n",
    "from sklearn.tree import DecisionTreeClassifier\n",
    "from sklearn.metrics import accuracy_score\n",
    "\n",
    "\n",
    "PATH_FILE = 'data/diabetes.csv'\n",
    "TEST_SIZE = 0.3\n",
    "RANDOM_STATE = 42\n",
    "\n",
    "df_housing = pd.read_csv(PATH_FILE)\n",
    "\n",
    "X = df_housing.drop(columns='Outcome')\n",
    "y = df_housing.loc[:, 'Outcome']\n",
    "\n",
    "# divindo X e y em uma proporcao de 70% para treino e 30% para testar\n",
    "X_train, X_test, y_train, y_test = train_test_split(X, y, test_size=TEST_SIZE, random_state=RANDOM_STATE)\n",
    "\n",
    "dec_tree = DecisionTreeClassifier(random_state=RANDOM_STATE)\n",
    "\n",
    "# aqui estamos treinado em apenas 70% dos dados\n",
    "dec_tree.fit(X_train, y_train)\n",
    "\n",
    "# fazendo previsoes nos outros 30% que o modelo nunca viu\n",
    "y_pred = dec_tree.predict(X_test)\n",
    "\n",
    "# avaliando com a metrica Accuracy as previsoes feitas em dados que nunca vimos\n",
    "acc = accuracy_score(y_test, y_pred)*100\n",
    "\n",
    "print(f'Acc em dados nunca vistos: {acc:.2f}%')"
   ]
  },
  {
   "cell_type": "markdown",
   "metadata": {},
   "source": [
    "## Avaliando Regressão e Classificação com Cross-Validation\n",
    "\n",
    "Vamos usar a função cross_val_score para retornar os resultados de um cross-validation. Temos alguns detalhes sobre ela que já iremos adiantar aqui.\n",
    "\n",
    "Sobre os parâmetros\n",
    "- scoring: se você deixar igual a None, ele usa o score default do próprio estimador\n",
    "    - no script cross_val_regression.py, usamos o estimador DecisionTreeRegressor, que tem como score default o $R^2$\n",
    "    - no script cross_val_classification.py, usamos o estimador DecisionTreeClassifier, que tem como score default a accuracy\n",
    "- cv: podemos passar muitas coisas para esse parâmetro, vamos ficar com o exemplo simples abaixo\n",
    "    - no script cross_val_regression.py, usamos $cv=5$, assim temos 5 folders no cross-validation\n",
    "    - no script cross_val_classification.py, usamos $cv=10$, assim temos 10 folders no cross-validation"
   ]
  },
  {
   "cell_type": "code",
   "execution_count": 46,
   "metadata": {},
   "outputs": [
    {
     "name": "stdout",
     "output_type": "stream",
     "text": [
      "Scores do Cross-validation\n",
      "[0.42 0.58 0.56 0.52 0.08]\n",
      "Media   : 0.43\n",
      "Desv Pad: 0.18\n"
     ]
    }
   ],
   "source": [
    "\"\"\"\n",
    "------cross_val_regression.py------\n",
    "\n",
    "Usamos \n",
    "\"\"\"\n",
    "import pandas as pd\n",
    "from sklearn.tree import DecisionTreeRegressor\n",
    "from sklearn.model_selection import cross_val_score\n",
    "\n",
    "\n",
    "PATH_FILE = 'data/housing.csv'\n",
    "\n",
    "df_housing = pd.read_csv(PATH_FILE)\n",
    "\n",
    "X = df_housing.drop(columns='MEDV')\n",
    "y = df_housing.loc[:, 'MEDV']\n",
    "\n",
    "dec_tree = DecisionTreeRegressor(random_state=RANDOM_STATE)\n",
    "\n",
    "# retornando resultado de um cross-validation com 5 folders\n",
    "# e scoring default r2 do estimador DecisionTreeRegressor\n",
    "scores = cross_val_score(dec_tree, X, y, scoring=None, cv=5)\n",
    "\n",
    "print('Scores do Cross-validation')\n",
    "print(scores.round(2))\n",
    "print(f'Media   : {scores.mean():.2f}')\n",
    "print(f'Desv Pad: {scores.std():.2f}')"
   ]
  },
  {
   "cell_type": "code",
   "execution_count": 49,
   "metadata": {},
   "outputs": [
    {
     "name": "stdout",
     "output_type": "stream",
     "text": [
      "Scores do Cross-validation\n",
      "[67.53 72.73 67.53 59.74 68.83 67.53 80.52 76.62 65.79 75.  ]\n",
      "Media   : 70.18%\n",
      "Desv Pad: 5.74%\n"
     ]
    }
   ],
   "source": [
    "\"\"\"\n",
    "------cross_val_classification.py------\n",
    "\n",
    "Usamos \n",
    "\"\"\"\n",
    "import pandas as pd\n",
    "from sklearn.tree import DecisionTreeClassifier\n",
    "from sklearn.model_selection import cross_val_score\n",
    "\n",
    "\n",
    "PATH_FILE = 'data/diabetes.csv'\n",
    "\n",
    "df_housing = pd.read_csv(PATH_FILE)\n",
    "\n",
    "X = df_housing.drop(columns='Outcome')\n",
    "y = df_housing.loc[:, 'Outcome']\n",
    "\n",
    "dec_tree = DecisionTreeClassifier(random_state=RANDOM_STATE)\n",
    "\n",
    "# retornando resultado de um cross-validation com 10 folders\n",
    "# e scoring default accuracy do estimador DecisionTreeClassifier\n",
    "# ja multiplicamos por 100 para mostrar em porcentagem\n",
    "scores = cross_val_score(dec_tree, X, y, scoring=None, cv=10)*100\n",
    "\n",
    "print('Scores do Cross-validation')\n",
    "print(scores.round(2))\n",
    "print(f'Media   : {scores.mean():.2f}%')\n",
    "print(f'Desv Pad: {scores.std():.2f}%')"
   ]
  }
 ],
 "metadata": {
  "kernelspec": {
   "display_name": "Python 3",
   "language": "python",
   "name": "python3"
  },
  "language_info": {
   "codemirror_mode": {
    "name": "ipython",
    "version": 3
   },
   "file_extension": ".py",
   "mimetype": "text/x-python",
   "name": "python",
   "nbconvert_exporter": "python",
   "pygments_lexer": "ipython3",
   "version": "3.7.7"
  },
  "toc": {
   "base_numbering": 1,
   "nav_menu": {},
   "number_sections": true,
   "sideBar": true,
   "skip_h1_title": false,
   "title_cell": "Table of Contents",
   "title_sidebar": "Contents",
   "toc_cell": true,
   "toc_position": {},
   "toc_section_display": true,
   "toc_window_display": false
  },
  "varInspector": {
   "cols": {
    "lenName": 16,
    "lenType": 16,
    "lenVar": 40
   },
   "kernels_config": {
    "python": {
     "delete_cmd_postfix": "",
     "delete_cmd_prefix": "del ",
     "library": "var_list.py",
     "varRefreshCmd": "print(var_dic_list())"
    },
    "r": {
     "delete_cmd_postfix": ") ",
     "delete_cmd_prefix": "rm(",
     "library": "var_list.r",
     "varRefreshCmd": "cat(var_dic_list()) "
    }
   },
   "types_to_exclude": [
    "module",
    "function",
    "builtin_function_or_method",
    "instance",
    "_Feature"
   ],
   "window_display": false
  }
 },
 "nbformat": 4,
 "nbformat_minor": 4
}
