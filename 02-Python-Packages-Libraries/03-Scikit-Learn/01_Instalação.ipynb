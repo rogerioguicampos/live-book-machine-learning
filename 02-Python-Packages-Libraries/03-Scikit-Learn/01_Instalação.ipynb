{
 "cells": [
  {
   "cell_type": "markdown",
   "metadata": {
    "toc": true
   },
   "source": [
    "<h1>Table of Contents<span class=\"tocSkip\"></span></h1>\n",
    "<div class=\"toc\"><ul class=\"toc-item\"><li><span><a href=\"#O-que-veremos?\" data-toc-modified-id=\"O-que-veremos?-1\"><span class=\"toc-item-num\">1&nbsp;&nbsp;</span>O que veremos?</a></span></li><li><span><a href=\"#Requisitos-Básicos\" data-toc-modified-id=\"Requisitos-Básicos-2\"><span class=\"toc-item-num\">2&nbsp;&nbsp;</span>Requisitos Básicos</a></span></li><li><span><a href=\"#Instalação\" data-toc-modified-id=\"Instalação-3\"><span class=\"toc-item-num\">3&nbsp;&nbsp;</span>Instalação</a></span></li><li><span><a href=\"#Como-instalar-com-conda\" data-toc-modified-id=\"Como-instalar-com-conda-4\"><span class=\"toc-item-num\">4&nbsp;&nbsp;</span>Como instalar com conda</a></span><ul class=\"toc-item\"><li><span><a href=\"#Instalação-em-um-environment-já-existente\" data-toc-modified-id=\"Instalação-em-um-environment-já-existente-4.1\"><span class=\"toc-item-num\">4.1&nbsp;&nbsp;</span>Instalação em um environment já existente</a></span></li><li><span><a href=\"#Instalação-criando-um-novo-environment\" data-toc-modified-id=\"Instalação-criando-um-novo-environment-4.2\"><span class=\"toc-item-num\">4.2&nbsp;&nbsp;</span>Instalação criando um novo environment</a></span></li></ul></li></ul></div>"
   ]
  },
  {
   "cell_type": "markdown",
   "metadata": {},
   "source": [
    "# O que veremos?\n",
    "\n",
    "*VÍDEO QUE ACOMPANHA O NOTEBOOK ESTÁ NO LINK:*\n",
    "\n",
    "Neste notebook, nós aprenderemos a instalar o pacote scikit-learn através do Anaconda Prompt no Windows. Caso esteja usando Linux, os comandos são exatamente os mesmos.<br>"
   ]
  },
  {
   "cell_type": "markdown",
   "metadata": {},
   "source": [
    "# Requisitos Básicos\n",
    "- Básico de Terminal Linux ou CMD Windows\n",
    "    - Manipulações básicas entre pastas e diretórios\n",
    "- Básico de conda\n",
    "    - Saber o que é e a importância de um environment\n",
    "    - Saber criar um environment com um pacote já instalado\n",
    "\n",
    "Todos os requisitos básicos estão na pasta **00-Basic-Tools/0-Terminal-Linux** e **00-Basic-Tools/01-CMD-Windows**"
   ]
  },
  {
   "cell_type": "markdown",
   "metadata": {},
   "source": [
    "# Instalação\n",
    "\n",
    "Das 3 maneiras que podemos instalar o **scikit-learn**, nós basicamente usaremos apenas uma, a instalação da última versão oficial lançada.<br>\n",
    "\n",
    "Esta é a melhor maneira para instalar esse pacote."
   ]
  },
  {
   "cell_type": "markdown",
   "metadata": {},
   "source": [
    "# Como instalar com conda"
   ]
  },
  {
   "cell_type": "markdown",
   "metadata": {},
   "source": [
    "## Instalação em um environment já existente\n",
    "\n",
    "Como todos nós já sabemos, aqui nós só usamos o conda como gerenciador de pacotes e environments. Independentemente do seu sistema operacional, Windows, macOS ou Linux, para instalar o **scikit-learn** com o conda, basta rodar:\n",
    "- Ative o environment que você deseja instalar o pacote\n",
    "- Digite o comando em destaque na imagem abaixo\n",
    "- Pressione **ENTER**\n",
    "- Aceite, apertando **Y**, quando aparecer a pergunta na segunda imagem"
   ]
  },
  {
   "cell_type": "markdown",
   "metadata": {},
   "source": [
    "![INSTALL-SK-LEARN](images/01_01_install_sklearn.PNG)"
   ]
  },
  {
   "cell_type": "markdown",
   "metadata": {},
   "source": [
    "![PROCEED-INSTALL](images/01_02_proceed_installation.PNG)"
   ]
  },
  {
   "cell_type": "markdown",
   "metadata": {},
   "source": [
    "Para ter certeza que o pacote foi instalado, faça o seguinte:\n",
    "- Rode o comando 1 em destaque na figura abaixo\n",
    "\n",
    "O destaque 2 da figura mostra que temos a versão 0.23.1 instalada no environment jq_academy."
   ]
  },
  {
   "cell_type": "markdown",
   "metadata": {},
   "source": [
    "![CHECK-INSTALL](images/01_03_check_installation.PNG)"
   ]
  },
  {
   "cell_type": "markdown",
   "metadata": {},
   "source": [
    "## Instalação criando um novo environment\n",
    "\n",
    "Para criar um novo environment, altamente recomendado para não criar um possível conflito com outros pacotes instalados, e já instalar o **scikit-learn**, faça o seguinte:\n",
    "- Rode o comando completo: conda create -n sk-learn scikit-learn\n",
    "- Pressione **ENTER**\n",
    "- Aceite, apertando **Y**, quando aparecer a pergunta na segunda imagem\n",
    "    - Aqui você aceita instalar outros pacotes que o scikit-learn precisa para rodar, ou seja, você ganha a vantagem de instalar o scikit-learn e o conda já instala tudo o que o scikit-learn necessita\n",
    "- O destaque 1 na primeira figura é o comando para criar um environment com nome de sk-learn\n",
    "- o destaque 2 na primeira figura é o comando para instalar o scikit-learn dentro do environment sk-learn que criaremos"
   ]
  },
  {
   "cell_type": "markdown",
   "metadata": {},
   "source": [
    "![CREATE-ENV-INSTALL](images/01_04_create_env_insta.PNG)"
   ]
  },
  {
   "cell_type": "markdown",
   "metadata": {},
   "source": [
    "![PROCEED-ENV](images/01_05_proceed_installation.PNG)"
   ]
  }
 ],
 "metadata": {
  "kernelspec": {
   "display_name": "Python 3",
   "language": "python",
   "name": "python3"
  },
  "language_info": {
   "codemirror_mode": {
    "name": "ipython",
    "version": 3
   },
   "file_extension": ".py",
   "mimetype": "text/x-python",
   "name": "python",
   "nbconvert_exporter": "python",
   "pygments_lexer": "ipython3",
   "version": "3.7.7"
  },
  "toc": {
   "base_numbering": 1,
   "nav_menu": {},
   "number_sections": true,
   "sideBar": true,
   "skip_h1_title": false,
   "title_cell": "Table of Contents",
   "title_sidebar": "Contents",
   "toc_cell": true,
   "toc_position": {},
   "toc_section_display": true,
   "toc_window_display": false
  },
  "varInspector": {
   "cols": {
    "lenName": 16,
    "lenType": 16,
    "lenVar": 40
   },
   "kernels_config": {
    "python": {
     "delete_cmd_postfix": "",
     "delete_cmd_prefix": "del ",
     "library": "var_list.py",
     "varRefreshCmd": "print(var_dic_list())"
    },
    "r": {
     "delete_cmd_postfix": ") ",
     "delete_cmd_prefix": "rm(",
     "library": "var_list.r",
     "varRefreshCmd": "cat(var_dic_list()) "
    }
   },
   "types_to_exclude": [
    "module",
    "function",
    "builtin_function_or_method",
    "instance",
    "_Feature"
   ],
   "window_display": false
  }
 },
 "nbformat": 4,
 "nbformat_minor": 4
}
