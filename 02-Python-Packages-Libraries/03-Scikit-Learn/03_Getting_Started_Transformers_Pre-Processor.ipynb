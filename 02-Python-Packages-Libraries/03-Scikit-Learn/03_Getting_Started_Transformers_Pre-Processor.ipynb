{
 "cells": [
  {
   "cell_type": "markdown",
   "metadata": {
    "toc": true
   },
   "source": [
    "<h1>Table of Contents<span class=\"tocSkip\"></span></h1>\n",
    "<div class=\"toc\"><ul class=\"toc-item\"><li><span><a href=\"#O-que-veremos?\" data-toc-modified-id=\"O-que-veremos?-1\"><span class=\"toc-item-num\">1&nbsp;&nbsp;</span>O que veremos?</a></span></li><li><span><a href=\"#Requisitos-Básicos\" data-toc-modified-id=\"Requisitos-Básicos-2\"><span class=\"toc-item-num\">2&nbsp;&nbsp;</span>Requisitos Básicos</a></span><ul class=\"toc-item\"><li><span><a href=\"#Teoria\" data-toc-modified-id=\"Teoria-2.1\"><span class=\"toc-item-num\">2.1&nbsp;&nbsp;</span>Teoria</a></span></li><li><span><a href=\"#Técnico\" data-toc-modified-id=\"Técnico-2.2\"><span class=\"toc-item-num\">2.2&nbsp;&nbsp;</span>Técnico</a></span></li></ul></li><li><span><a href=\"#Transformadores-e-pré-processadores\" data-toc-modified-id=\"Transformadores-e-pré-processadores-3\"><span class=\"toc-item-num\">3&nbsp;&nbsp;</span>Transformadores e pré-processadores</a></span></li></ul></div>"
   ]
  },
  {
   "cell_type": "markdown",
   "metadata": {},
   "source": [
    "# O que veremos?\n",
    "\n",
    "Quando criamos um modelo de Machine Learning, este - praticamente 100% das vezes - é composto por mais do que apenas um estimador dando fit e predict. Geralmente, nós precisaremos transformar e pré-processar os dados de alguma maneira antes de usar um estimador.<br>\n",
    "\n",
    "Como veremos nesse notebook, fazer todos esses passos de maneira separada dá uma trabalheira e mais linhas de código do que o necessário. Para resolver esse problema, nós usaremos um um objeto especial. Nele, ficarão todas as transformações, pré-processamentos e o estimador final."
   ]
  },
  {
   "cell_type": "markdown",
   "metadata": {},
   "source": [
    "# Requisitos Básicos "
   ]
  },
  {
   "cell_type": "markdown",
   "metadata": {},
   "source": [
    "## Teoria \n",
    "\n",
    "- Saber o que é e a importância de pré-processamento em modelos de Machine Learning"
   ]
  },
  {
   "cell_type": "markdown",
   "metadata": {},
   "source": [
    "## Técnico \n",
    "- Básico de Orientação a Objetos. Somente saber o que são objetos, classes, métodos etc. Nomenclatura e terminologia básicas\n",
    "- Imports de bibliotecas"
   ]
  },
  {
   "cell_type": "markdown",
   "metadata": {},
   "source": [
    "# Transformadores e pré-processadores \n",
    "\n",
    "No exemplo abaixo, nós usaremos o dataset *Pima Indians Diabetes*. Nesse dataset nós iremos pré-processar os dados com o **StandardScaler**. Não se preocupe em entender o que é e o motivo de usarmos esse passo de pré-processamento, concentre-se na técnica de como você pode fazê-lo. Mais tarde iremos destrinchar a teoria.\n",
    "\n",
    "Link para a página do Kaggle com informações adicionais sobre o dataset: [Pima Indians Diabetes Database - Kaggle](https://www.kaggle.com/uciml/pima-indians-diabetes-database)"
   ]
  },
  {
   "cell_type": "code",
   "execution_count": 9,
   "metadata": {},
   "outputs": [
    {
     "name": "stdout",
     "output_type": "stream",
     "text": [
      "Dataset que iremos trabalhar antes do pre-processamento\n",
      "     Glucose  BloodPressure   BMI  DiabetesPedigreeFunction\n",
      "0        148             72  33.6                     0.627\n",
      "1         85             66  26.6                     0.351\n",
      "2        183             64  23.3                     0.672\n",
      "3         89             66  28.1                     0.167\n",
      "4        137             40  43.1                     2.288\n",
      "..       ...            ...   ...                       ...\n",
      "763      101             76  32.9                     0.171\n",
      "764      122             70  36.8                     0.340\n",
      "765      121             72  26.2                     0.245\n",
      "766      126             60  30.1                     0.349\n",
      "767       93             70  30.4                     0.315\n",
      "\n",
      "[768 rows x 4 columns]\n",
      "\n",
      "Dataset apos o pre-processamento\n",
      "[[ 0.84832379  0.14964075  0.20401277  0.46849198]\n",
      " [-1.12339636 -0.16054575 -0.68442195 -0.36506078]\n",
      " [ 1.94372388 -0.26394125 -1.10325546  0.60439732]\n",
      " ...\n",
      " [ 0.00330087  0.14964075 -0.73518964 -0.68519336]\n",
      " [ 0.1597866  -0.47073225 -0.24020459 -0.37110101]\n",
      " [-0.8730192   0.04624525 -0.20212881 -0.47378505]]\n",
      "\n"
     ]
    }
   ],
   "source": [
    "\"\"\"\n",
    "------pre_process.py------\n",
    "\n",
    "Script basico para leitura e pre-processamento\n",
    "das features numericas com StandardScaler\n",
    "\n",
    "\"\"\"\n",
    "import pandas as pd\n",
    "from sklearn.preprocessing import StandardScaler\n",
    "\n",
    "PATH_FILE = 'data/diabetes.csv'\n",
    "USE_COLS = ['Glucose', 'BloodPressure', 'BMI', 'DiabetesPedigreeFunction']\n",
    "\n",
    "df_diabetes = pd.read_csv(PATH_FILE, usecols=USE_COLS)\n",
    "\n",
    "print('Dataset que iremos trabalhar antes do pre-processamento')\n",
    "print(df_diabetes)\n",
    "print()\n",
    "\n",
    "scaler = StandardScaler()\n",
    "df_diabetes_t = scaler.fit_transform(df_diabetes)\n",
    "\n",
    "print('Dataset apos o pre-processamento')\n",
    "print(df_diabetes_t)\n",
    "print()"
   ]
  }
 ],
 "metadata": {
  "kernelspec": {
   "display_name": "Python 3",
   "language": "python",
   "name": "python3"
  },
  "language_info": {
   "codemirror_mode": {
    "name": "ipython",
    "version": 3
   },
   "file_extension": ".py",
   "mimetype": "text/x-python",
   "name": "python",
   "nbconvert_exporter": "python",
   "pygments_lexer": "ipython3",
   "version": "3.7.7"
  },
  "toc": {
   "base_numbering": 1,
   "nav_menu": {},
   "number_sections": true,
   "sideBar": true,
   "skip_h1_title": false,
   "title_cell": "Table of Contents",
   "title_sidebar": "Contents",
   "toc_cell": true,
   "toc_position": {},
   "toc_section_display": true,
   "toc_window_display": false
  },
  "varInspector": {
   "cols": {
    "lenName": 16,
    "lenType": 16,
    "lenVar": 40
   },
   "kernels_config": {
    "python": {
     "delete_cmd_postfix": "",
     "delete_cmd_prefix": "del ",
     "library": "var_list.py",
     "varRefreshCmd": "print(var_dic_list())"
    },
    "r": {
     "delete_cmd_postfix": ") ",
     "delete_cmd_prefix": "rm(",
     "library": "var_list.r",
     "varRefreshCmd": "cat(var_dic_list()) "
    }
   },
   "types_to_exclude": [
    "module",
    "function",
    "builtin_function_or_method",
    "instance",
    "_Feature"
   ],
   "window_display": false
  }
 },
 "nbformat": 4,
 "nbformat_minor": 4
}
